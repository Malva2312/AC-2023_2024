{
 "cells": [
  {
   "cell_type": "code",
   "execution_count": 622,
   "metadata": {},
   "outputs": [],
   "source": [
    "# Importing libraries for data manipulation\n",
    "import sqlite3\n",
    "import pandas as pd\n",
    "\n",
    "# Importing libraries for data visualization\n",
    "import matplotlib.pyplot as plt\n",
    "import numpy as np\n",
    "\n",
    "# Importing libraries for data preprocessing\n",
    "from sklearn.pipeline import Pipeline\n",
    "from sklearn.preprocessing import StandardScaler\n",
    "from sklearn.preprocessing import LabelEncoder\n",
    "\n",
    "# Importing libraries for classification\n",
    "from sklearn.metrics import accuracy_score, precision_score, recall_score, f1_score, roc_auc_score\n",
    "from sklearn.metrics import classification_report\n",
    "\n",
    "# Importing libraries for classification models\n",
    "from sklearn.ensemble import RandomForestClassifier\n",
    "from sklearn.svm import SVC\n",
    "from sklearn.linear_model import LogisticRegression\n",
    "from sklearn.neural_network import MLPClassifier\n",
    "from sklearn.ensemble import GradientBoostingClassifier\n",
    "\n",
    "from sklearn.model_selection import GridSearchCV\n",
    "\n",
    "from py_helpers.pipeline_helper import *\n",
    "from py_helpers.db_helper import *"
   ]
  },
  {
   "cell_type": "code",
   "execution_count": 623,
   "metadata": {},
   "outputs": [],
   "source": [
    "seed = 42\n",
    "target = 'playoff'\n",
    "data = './db/WNBA_filtered.db'\n",
    "tables = ['Awards_Players', 'Coaches', 'Players', 'Players_Teams', 'Teams', 'Teams_Year']"
   ]
  },
  {
   "cell_type": "code",
   "execution_count": 624,
   "metadata": {},
   "outputs": [],
   "source": [
    "awards_players_df = retrieve_data(data, tables[0])  \n",
    "coaches_df = retrieve_data(data, tables[1])  \n",
    "players_df = retrieve_data(data, tables[2])  \n",
    "players_teams_df = retrieve_data(data, tables[3])  \n",
    "teams_df = retrieve_data(data, tables[4])  \n",
    "teams_year_df = retrieve_data(data, tables[5])"
   ]
  },
  {
   "cell_type": "code",
   "execution_count": 625,
   "metadata": {},
   "outputs": [
    {
     "data": {
      "text/plain": [
       "['tmID',\n",
       " 'year',\n",
       " 'playoff',\n",
       " 'principal_component_1',\n",
       " 'principal_component_2',\n",
       " 'playerID',\n",
       " 'GP',\n",
       " 'GS',\n",
       " 'minutes',\n",
       " 'points',\n",
       " 'oRebounds',\n",
       " 'dRebounds',\n",
       " 'rebounds',\n",
       " 'assists',\n",
       " 'steals',\n",
       " 'blocks',\n",
       " 'turnovers',\n",
       " 'PF',\n",
       " 'fgRatio',\n",
       " 'ftRatio',\n",
       " 'threeRatio',\n",
       " 'dq',\n",
       " 'p_stint',\n",
       " 'coachID',\n",
       " 'won',\n",
       " 'lost',\n",
       " 'c_stint']"
      ]
     },
     "execution_count": 625,
     "metadata": {},
     "output_type": "execute_result"
    }
   ],
   "source": [
    "# Join the DataFrames\n",
    "df = teams_df.merge(players_teams_df, on=['year', 'tmID'], how='left') \\\n",
    "                   .merge(coaches_df, on=['year', 'tmID'], how='left') \n",
    "                   #.merge(teams_year_df, on=['year', 'tmID'], how='left')\n",
    "                   #.merge(players_df, left_on='playerID', right_on='playerID', how='left') \\\n",
    "\n",
    "# Drop the columns that are not needed\n",
    "\n",
    "list(df.columns)"
   ]
  },
  {
   "cell_type": "code",
   "execution_count": 626,
   "metadata": {},
   "outputs": [],
   "source": [
    "# Data from the eleveth year\n",
    "coaches_csv = '../season_11/coaches.csv'\n",
    "players_teams_csv = '../season_11/players_teams.csv'\n",
    "teams_csv = '../season_11/teams.csv'\n",
    "\n",
    "coaches_df_11 = pd.read_csv(coaches_csv)\n",
    "coaches_df_11['c_stint'] = coaches_df_11['stint']\n",
    "coaches_df_11 = coaches_df_11.drop(columns=['stint'])\n",
    "\n",
    "players_teams_df_11 = pd.read_csv(players_teams_csv)\n",
    "players_teams_df_11['p_stint'] = players_teams_df_11['stint']\n",
    "players_teams_df_11 = players_teams_df_11.drop(['stint'], axis=1)\n",
    "\n",
    "teams_df_11 = pd.read_csv(teams_csv)"
   ]
  },
  {
   "cell_type": "code",
   "execution_count": 627,
   "metadata": {},
   "outputs": [],
   "source": [
    "# Having coaches_df and coaches_df_11\n",
    "# Remove coaches_df_11 columns that are not in coaches_df\n",
    "# Coaches_df could have more columns than coaches_df_11\n",
    "coaches_df_11_cols = [x for x in coaches_df_11.columns if x in coaches_df.columns]\n",
    "coaches_df_11 = coaches_df_11[coaches_df_11_cols]\n",
    "\n",
    "# Having players_teams_df and players_teams_df_11\n",
    "# Remove players_teams_df_11 columns that are not in players_teams_df\n",
    "# players_teams_df could have more columns than players_teams_df_11\n",
    "players_teams_df_11_cols = [x for x in players_teams_df_11.columns if x in players_teams_df.columns]\n",
    "players_teams_df_11 = players_teams_df_11[players_teams_df_11_cols]\n",
    "\n",
    "# Having df_teams and teams_df\n",
    "# Remove df_teams columns that are not in teams_df\n",
    "# teams_df could have more columns than df_teams\n",
    "teams_df_11_cols = [x for x in teams_df_11.columns if x in teams_df.columns]\n",
    "teams_df_11 = teams_df_11[teams_df_11_cols]"
   ]
  },
  {
   "cell_type": "code",
   "execution_count": 628,
   "metadata": {},
   "outputs": [
    {
     "data": {
      "text/plain": [
       "Index(['year', 'tmID', 'playerID', 'p_stint', 'coachID', 'c_stint'], dtype='object')"
      ]
     },
     "execution_count": 628,
     "metadata": {},
     "output_type": "execute_result"
    }
   ],
   "source": [
    "# Merge the DataFrames of the eleventh year\n",
    "df_11 = teams_df_11.merge(players_teams_df_11, on=['year', 'tmID'], how='left') \\\n",
    "                     .merge(coaches_df_11, on=['year', 'tmID'], how='left')\n",
    "df_11.columns"
   ]
  },
  {
   "cell_type": "code",
   "execution_count": 629,
   "metadata": {},
   "outputs": [
    {
     "data": {
      "text/html": [
       "<div>\n",
       "<style scoped>\n",
       "    .dataframe tbody tr th:only-of-type {\n",
       "        vertical-align: middle;\n",
       "    }\n",
       "\n",
       "    .dataframe tbody tr th {\n",
       "        vertical-align: top;\n",
       "    }\n",
       "\n",
       "    .dataframe thead th {\n",
       "        text-align: right;\n",
       "    }\n",
       "</style>\n",
       "<table border=\"1\" class=\"dataframe\">\n",
       "  <thead>\n",
       "    <tr style=\"text-align: right;\">\n",
       "      <th></th>\n",
       "      <th>year</th>\n",
       "      <th>tmID</th>\n",
       "      <th>playerID</th>\n",
       "      <th>p_stint</th>\n",
       "      <th>coachID</th>\n",
       "      <th>c_stint</th>\n",
       "    </tr>\n",
       "  </thead>\n",
       "  <tbody>\n",
       "    <tr>\n",
       "      <th>0</th>\n",
       "      <td>11</td>\n",
       "      <td>ATL</td>\n",
       "      <td>balesal01w</td>\n",
       "      <td>0</td>\n",
       "      <td>meadoma99w</td>\n",
       "      <td>0</td>\n",
       "    </tr>\n",
       "    <tr>\n",
       "      <th>1</th>\n",
       "      <td>11</td>\n",
       "      <td>ATL</td>\n",
       "      <td>castriz01w</td>\n",
       "      <td>0</td>\n",
       "      <td>meadoma99w</td>\n",
       "      <td>0</td>\n",
       "    </tr>\n",
       "    <tr>\n",
       "      <th>2</th>\n",
       "      <td>11</td>\n",
       "      <td>ATL</td>\n",
       "      <td>desouer01w</td>\n",
       "      <td>0</td>\n",
       "      <td>meadoma99w</td>\n",
       "      <td>0</td>\n",
       "    </tr>\n",
       "    <tr>\n",
       "      <th>3</th>\n",
       "      <td>11</td>\n",
       "      <td>ATL</td>\n",
       "      <td>hardili01w</td>\n",
       "      <td>0</td>\n",
       "      <td>meadoma99w</td>\n",
       "      <td>0</td>\n",
       "    </tr>\n",
       "    <tr>\n",
       "      <th>4</th>\n",
       "      <td>11</td>\n",
       "      <td>ATL</td>\n",
       "      <td>irvinsa01w</td>\n",
       "      <td>0</td>\n",
       "      <td>meadoma99w</td>\n",
       "      <td>0</td>\n",
       "    </tr>\n",
       "  </tbody>\n",
       "</table>\n",
       "</div>"
      ],
      "text/plain": [
       "   year tmID    playerID  p_stint     coachID  c_stint\n",
       "0    11  ATL  balesal01w        0  meadoma99w        0\n",
       "1    11  ATL  castriz01w        0  meadoma99w        0\n",
       "2    11  ATL  desouer01w        0  meadoma99w        0\n",
       "3    11  ATL  hardili01w        0  meadoma99w        0\n",
       "4    11  ATL  irvinsa01w        0  meadoma99w        0"
      ]
     },
     "execution_count": 629,
     "metadata": {},
     "output_type": "execute_result"
    }
   ],
   "source": [
    "df_11.head()"
   ]
  },
  {
   "cell_type": "code",
   "execution_count": 630,
   "metadata": {},
   "outputs": [
    {
     "data": {
      "text/plain": [
       "['ATL',\n",
       " 'CHA',\n",
       " 'CHI',\n",
       " 'CLE',\n",
       " 'CON',\n",
       " 'DET',\n",
       " 'HOU',\n",
       " 'IND',\n",
       " 'LAS',\n",
       " 'MIA',\n",
       " 'MIN',\n",
       " 'NYL',\n",
       " 'ORL',\n",
       " 'PHO',\n",
       " 'POR',\n",
       " 'SAC',\n",
       " 'SAS',\n",
       " 'SEA',\n",
       " 'TUL',\n",
       " 'UTA',\n",
       " 'WAS']"
      ]
     },
     "execution_count": 630,
     "metadata": {},
     "output_type": "execute_result"
    }
   ],
   "source": [
    "team_names = df['tmID'].unique().tolist()\n",
    "new_teams = df_11['tmID'].unique().tolist()\n",
    "team_names = list(set(team_names + new_teams))\n",
    "team_names.sort()\n",
    "team_names"
   ]
  },
  {
   "cell_type": "code",
   "execution_count": 631,
   "metadata": {},
   "outputs": [
    {
     "name": "stdout",
     "output_type": "stream",
     "text": [
      "[ 0  1  2  3  4  5  6  7  8  9 10 11 12 13 14 15 16 17 18 19 20]\n"
     ]
    }
   ],
   "source": [
    "len(team_names)\n",
    "encoder = LabelEncoder()\n",
    "team_names = encoder.fit_transform(team_names)\n",
    "print(team_names)"
   ]
  },
  {
   "cell_type": "code",
   "execution_count": 632,
   "metadata": {},
   "outputs": [
    {
     "name": "stdout",
     "output_type": "stream",
     "text": [
      "['year', 'tmID', 'playerID', 'p_stint', 'coachID', 'c_stint']\n",
      "['year', 'tmID', 'playerID', 'p_stint', 'coachID', 'c_stint']\n"
     ]
    }
   ],
   "source": [
    "print([x for x in df_11.columns if x in df.columns])\n",
    "print(list(df_11.columns))"
   ]
  },
  {
   "cell_type": "code",
   "execution_count": 633,
   "metadata": {},
   "outputs": [
    {
     "name": "stdout",
     "output_type": "stream",
     "text": [
      "['principal_component_1', 'principal_component_2', 'GP', 'GS', 'minutes', 'points', 'oRebounds', 'dRebounds', 'rebounds', 'assists', 'steals', 'blocks', 'turnovers', 'PF', 'fgRatio', 'ftRatio', 'threeRatio', 'dq', 'won', 'lost']\n",
      "20\n"
     ]
    }
   ],
   "source": [
    "# Columns to solve\n",
    "to_solve = [x for x in df.columns if x not in df_11.columns]\n",
    "# Remove the target column\n",
    "to_solve.remove(target)\n",
    "\n",
    "print(list(to_solve))\n",
    "print(len(to_solve))"
   ]
  },
  {
   "cell_type": "code",
   "execution_count": 634,
   "metadata": {},
   "outputs": [
    {
     "data": {
      "text/html": [
       "<div>\n",
       "<style scoped>\n",
       "    .dataframe tbody tr th:only-of-type {\n",
       "        vertical-align: middle;\n",
       "    }\n",
       "\n",
       "    .dataframe tbody tr th {\n",
       "        vertical-align: top;\n",
       "    }\n",
       "\n",
       "    .dataframe thead th {\n",
       "        text-align: right;\n",
       "    }\n",
       "</style>\n",
       "<table border=\"1\" class=\"dataframe\">\n",
       "  <thead>\n",
       "    <tr style=\"text-align: right;\">\n",
       "      <th></th>\n",
       "      <th>tmID</th>\n",
       "      <th>year</th>\n",
       "      <th>playoff</th>\n",
       "      <th>principal_component_1</th>\n",
       "      <th>principal_component_2</th>\n",
       "      <th>playerID</th>\n",
       "      <th>GP</th>\n",
       "      <th>GS</th>\n",
       "      <th>minutes</th>\n",
       "      <th>points</th>\n",
       "      <th>...</th>\n",
       "      <th>height</th>\n",
       "      <th>weight</th>\n",
       "      <th>birthYear</th>\n",
       "      <th>pos_C</th>\n",
       "      <th>pos_C_F</th>\n",
       "      <th>pos_F</th>\n",
       "      <th>pos_F_C</th>\n",
       "      <th>pos_F_G</th>\n",
       "      <th>pos_G</th>\n",
       "      <th>pos_G_F</th>\n",
       "    </tr>\n",
       "  </thead>\n",
       "  <tbody>\n",
       "    <tr>\n",
       "      <th>0</th>\n",
       "      <td>ATL</td>\n",
       "      <td>9</td>\n",
       "      <td>0.0</td>\n",
       "      <td>1.863011</td>\n",
       "      <td>1.406214</td>\n",
       "      <td>balesal01w</td>\n",
       "      <td>17.0</td>\n",
       "      <td>9.0</td>\n",
       "      <td>389.0</td>\n",
       "      <td>82.0</td>\n",
       "      <td>...</td>\n",
       "      <td>79.0</td>\n",
       "      <td>218.0</td>\n",
       "      <td>1985.0</td>\n",
       "      <td>1.0</td>\n",
       "      <td>0.0</td>\n",
       "      <td>0.0</td>\n",
       "      <td>0.0</td>\n",
       "      <td>0.0</td>\n",
       "      <td>0.0</td>\n",
       "      <td>0.0</td>\n",
       "    </tr>\n",
       "    <tr>\n",
       "      <th>1</th>\n",
       "      <td>ATL</td>\n",
       "      <td>9</td>\n",
       "      <td>0.0</td>\n",
       "      <td>1.863011</td>\n",
       "      <td>1.406214</td>\n",
       "      <td>castriz01w</td>\n",
       "      <td>29.0</td>\n",
       "      <td>20.0</td>\n",
       "      <td>671.0</td>\n",
       "      <td>269.0</td>\n",
       "      <td>...</td>\n",
       "      <td>72.0</td>\n",
       "      <td>140.0</td>\n",
       "      <td>1982.0</td>\n",
       "      <td>0.0</td>\n",
       "      <td>0.0</td>\n",
       "      <td>0.0</td>\n",
       "      <td>0.0</td>\n",
       "      <td>1.0</td>\n",
       "      <td>0.0</td>\n",
       "      <td>0.0</td>\n",
       "    </tr>\n",
       "    <tr>\n",
       "      <th>2</th>\n",
       "      <td>ATL</td>\n",
       "      <td>9</td>\n",
       "      <td>0.0</td>\n",
       "      <td>1.863011</td>\n",
       "      <td>1.406214</td>\n",
       "      <td>desouer01w</td>\n",
       "      <td>12.0</td>\n",
       "      <td>8.0</td>\n",
       "      <td>277.0</td>\n",
       "      <td>112.0</td>\n",
       "      <td>...</td>\n",
       "      <td>77.0</td>\n",
       "      <td>190.0</td>\n",
       "      <td>1982.0</td>\n",
       "      <td>0.0</td>\n",
       "      <td>0.0</td>\n",
       "      <td>0.0</td>\n",
       "      <td>1.0</td>\n",
       "      <td>0.0</td>\n",
       "      <td>0.0</td>\n",
       "      <td>0.0</td>\n",
       "    </tr>\n",
       "    <tr>\n",
       "      <th>3</th>\n",
       "      <td>ATL</td>\n",
       "      <td>9</td>\n",
       "      <td>0.0</td>\n",
       "      <td>1.863011</td>\n",
       "      <td>1.406214</td>\n",
       "      <td>haynikr01w</td>\n",
       "      <td>33.0</td>\n",
       "      <td>3.0</td>\n",
       "      <td>486.0</td>\n",
       "      <td>94.0</td>\n",
       "      <td>...</td>\n",
       "      <td>69.0</td>\n",
       "      <td>147.0</td>\n",
       "      <td>1983.0</td>\n",
       "      <td>0.0</td>\n",
       "      <td>0.0</td>\n",
       "      <td>0.0</td>\n",
       "      <td>0.0</td>\n",
       "      <td>0.0</td>\n",
       "      <td>1.0</td>\n",
       "      <td>0.0</td>\n",
       "    </tr>\n",
       "    <tr>\n",
       "      <th>4</th>\n",
       "      <td>ATL</td>\n",
       "      <td>9</td>\n",
       "      <td>0.0</td>\n",
       "      <td>1.863011</td>\n",
       "      <td>1.406214</td>\n",
       "      <td>lacyje01w</td>\n",
       "      <td>33.0</td>\n",
       "      <td>22.0</td>\n",
       "      <td>605.0</td>\n",
       "      <td>189.0</td>\n",
       "      <td>...</td>\n",
       "      <td>75.0</td>\n",
       "      <td>175.0</td>\n",
       "      <td>1983.0</td>\n",
       "      <td>0.0</td>\n",
       "      <td>0.0</td>\n",
       "      <td>1.0</td>\n",
       "      <td>0.0</td>\n",
       "      <td>0.0</td>\n",
       "      <td>0.0</td>\n",
       "      <td>0.0</td>\n",
       "    </tr>\n",
       "  </tbody>\n",
       "</table>\n",
       "<p>5 rows × 52 columns</p>\n",
       "</div>"
      ],
      "text/plain": [
       "  tmID  year  playoff  principal_component_1  principal_component_2  \\\n",
       "0  ATL     9      0.0               1.863011               1.406214   \n",
       "1  ATL     9      0.0               1.863011               1.406214   \n",
       "2  ATL     9      0.0               1.863011               1.406214   \n",
       "3  ATL     9      0.0               1.863011               1.406214   \n",
       "4  ATL     9      0.0               1.863011               1.406214   \n",
       "\n",
       "     playerID    GP    GS  minutes  points  ...  height  weight  birthYear  \\\n",
       "0  balesal01w  17.0   9.0    389.0    82.0  ...    79.0   218.0     1985.0   \n",
       "1  castriz01w  29.0  20.0    671.0   269.0  ...    72.0   140.0     1982.0   \n",
       "2  desouer01w  12.0   8.0    277.0   112.0  ...    77.0   190.0     1982.0   \n",
       "3  haynikr01w  33.0   3.0    486.0    94.0  ...    69.0   147.0     1983.0   \n",
       "4   lacyje01w  33.0  22.0    605.0   189.0  ...    75.0   175.0     1983.0   \n",
       "\n",
       "   pos_C  pos_C_F  pos_F  pos_F_C  pos_F_G  pos_G  pos_G_F  \n",
       "0    1.0      0.0    0.0      0.0      0.0    0.0      0.0  \n",
       "1    0.0      0.0    0.0      0.0      1.0    0.0      0.0  \n",
       "2    0.0      0.0    0.0      1.0      0.0    0.0      0.0  \n",
       "3    0.0      0.0    0.0      0.0      0.0    1.0      0.0  \n",
       "4    0.0      0.0    1.0      0.0      0.0    0.0      0.0  \n",
       "\n",
       "[5 rows x 52 columns]"
      ]
     },
     "execution_count": 634,
     "metadata": {},
     "output_type": "execute_result"
    }
   ],
   "source": [
    "# Join df_11 to df and assing missing values to NaN\n",
    "df_all =  df.merge(df_11, on=['year', 'tmID', 'playerID', 'p_stint', 'coachID', 'c_stint'], how='outer')\n",
    "            \n",
    "awards_coach_df = awards_players_df[ ['playerID', 'year', 'Coach_of_the_Year'] ]\n",
    "awards_coach_df = awards_coach_df.rename(columns={'playerID': 'coachID'})\n",
    "\n",
    "awards_players_df = awards_players_df.drop(columns=['Coach_of_the_Year'])\n",
    "\n",
    "df_all = df_all.merge(teams_year_df, on=['year', 'tmID'], how='outer') \\\n",
    "                .merge(awards_players_df, on=['playerID', 'year'], how='left') \\\n",
    "                .merge(awards_coach_df, on=['coachID', 'year'], how='left') \\\n",
    "                .merge(players_df, left_on='playerID', right_on='playerID', how='left') \\\n",
    "                    \n",
    "df_all.head()"
   ]
  },
  {
   "cell_type": "code",
   "execution_count": 635,
   "metadata": {},
   "outputs": [
    {
     "data": {
      "text/plain": [
       "0"
      ]
     },
     "execution_count": 635,
     "metadata": {},
     "output_type": "execute_result"
    }
   ],
   "source": [
    "# check if I have pairs tmID-year-playerID-coachID with duplicated values\n",
    "df_all[['tmID', 'year', 'playerID', 'coachID']].duplicated().sum()"
   ]
  },
  {
   "cell_type": "code",
   "execution_count": 636,
   "metadata": {},
   "outputs": [
    {
     "data": {
      "text/plain": [
       "233"
      ]
     },
     "execution_count": 636,
     "metadata": {},
     "output_type": "execute_result"
    }
   ],
   "source": [
    "# Checking for missing values after the merge\n",
    "# Check for missing values in playoff column\n",
    "df_all[target].isnull().sum()"
   ]
  },
  {
   "cell_type": "code",
   "execution_count": 637,
   "metadata": {},
   "outputs": [
    {
     "name": "stdout",
     "output_type": "stream",
     "text": [
      "(175, 52)\n",
      "175\n"
     ]
    }
   ],
   "source": [
    "# Print the number of entries in year 11\n",
    "print(df_all[df_all['year'] == 11].shape)\n",
    "\n",
    "# Checking for missing values on playoff after the merge on year 11\n",
    "print(df_all[df_all['year'] == 11][target].isnull().sum())"
   ]
  },
  {
   "cell_type": "code",
   "execution_count": 638,
   "metadata": {},
   "outputs": [
    {
     "data": {
      "text/plain": [
       "(12, 2)"
      ]
     },
     "execution_count": 638,
     "metadata": {},
     "output_type": "execute_result"
    }
   ],
   "source": [
    "# Distinct pairs of tmID-year when the year is 11\n",
    "df_all[df_all['year'] == 11][['tmID', 'year']].drop_duplicates().shape"
   ]
  },
  {
   "cell_type": "code",
   "execution_count": 639,
   "metadata": {},
   "outputs": [
    {
     "name": "stdout",
     "output_type": "stream",
     "text": [
      "(58, 52)\n"
     ]
    }
   ],
   "source": [
    "# Print the entrnumber of entries that are not in year 11 but have missing values on playoff\n",
    "print(df_all[(df_all['year'] != 11) & (df_all[target].isnull())].shape)"
   ]
  },
  {
   "cell_type": "code",
   "execution_count": 640,
   "metadata": {},
   "outputs": [
    {
     "name": "stdout",
     "output_type": "stream",
     "text": [
      "(2378, 52)\n",
      "(2320, 52)\n",
      "58\n"
     ]
    }
   ],
   "source": [
    "df_old_shape = df_all.shape\n",
    "\n",
    "# Remove entries that are not in year 11 but have missing values on playoff\n",
    "df_all = df_all[~((df_all['year'] != 11) & (df_all['playoff'].isna()))]\n",
    "\n",
    "df_updated_shape = df_all.shape\n",
    "\n",
    "# Print the number of entries in each set and the number of entries removed\n",
    "print(df_old_shape)\n",
    "print(df_updated_shape)\n",
    "print(df_old_shape[0] - df_updated_shape[0])"
   ]
  },
  {
   "cell_type": "code",
   "execution_count": 641,
   "metadata": {},
   "outputs": [
    {
     "name": "stdout",
     "output_type": "stream",
     "text": [
      "playoff 175\n"
     ]
    }
   ],
   "source": [
    "columns_with_missing_values = df_all.columns[df_all.isna().any()].tolist()\n",
    "# Using loc to modify the DataFrame\n",
    "# Fill the missing values with 0 except for the target column\n",
    "columns_with_missing_values.remove(target)\n",
    "df_all.loc[:, columns_with_missing_values] = df_all[columns_with_missing_values].fillna(0)\n",
    "\n",
    "columns_with_missing_values = df_all.columns[df_all.isna().any()].tolist()\n",
    "# Checking for missing values after the merge\n",
    "# Check for missing values in each column\n",
    "for column in columns_with_missing_values:\n",
    "    print(column, df_all[column].isna().sum())\n",
    "\n",
    "# Expecting to see no missing values"
   ]
  },
  {
   "cell_type": "code",
   "execution_count": 642,
   "metadata": {},
   "outputs": [
    {
     "name": "stdout",
     "output_type": "stream",
     "text": [
      "['tmID', 'playerID', 'coachID']\n"
     ]
    }
   ],
   "source": [
    "# List the columns that are not boolean or numeric\n",
    "non_numeric_columns = df_all.select_dtypes(exclude=['bool', 'number']).columns.tolist() \n",
    "print(non_numeric_columns)\n",
    "\n",
    "# Remove the non-numeric columns except for the tmID\n",
    "non_numeric_columns.remove('tmID')\n",
    "df_all = df_all.drop(columns=non_numeric_columns)\n",
    "\n",
    "\n",
    "# Insert into the database\n",
    "table_name = 'merged'\n",
    "schema = schema_builder(df_all)\n",
    "schema = f\"Create Table {table_name} ({schema})\"\n",
    "insert_dataframe(df_all, table_name, data, schema)"
   ]
  },
  {
   "cell_type": "code",
   "execution_count": 643,
   "metadata": {},
   "outputs": [
    {
     "data": {
      "text/html": [
       "<div>\n",
       "<style scoped>\n",
       "    .dataframe tbody tr th:only-of-type {\n",
       "        vertical-align: middle;\n",
       "    }\n",
       "\n",
       "    .dataframe tbody tr th {\n",
       "        vertical-align: top;\n",
       "    }\n",
       "\n",
       "    .dataframe thead th {\n",
       "        text-align: right;\n",
       "    }\n",
       "</style>\n",
       "<table border=\"1\" class=\"dataframe\">\n",
       "  <thead>\n",
       "    <tr style=\"text-align: right;\">\n",
       "      <th></th>\n",
       "      <th>tmID</th>\n",
       "      <th>year</th>\n",
       "      <th>playoff</th>\n",
       "      <th>playerID</th>\n",
       "      <th>p_stint_now</th>\n",
       "      <th>coachID</th>\n",
       "      <th>c_stint_now</th>\n",
       "      <th>principal_component_1</th>\n",
       "      <th>principal_component_2</th>\n",
       "      <th>GP</th>\n",
       "      <th>...</th>\n",
       "      <th>pos_C_F</th>\n",
       "      <th>pos_F</th>\n",
       "      <th>pos_F_C</th>\n",
       "      <th>pos_F_G</th>\n",
       "      <th>pos_G</th>\n",
       "      <th>pos_G_F</th>\n",
       "      <th>totalPoints</th>\n",
       "      <th>cumulativePoints</th>\n",
       "      <th>totalMinutes</th>\n",
       "      <th>yearlyWins</th>\n",
       "    </tr>\n",
       "  </thead>\n",
       "  <tbody>\n",
       "    <tr>\n",
       "      <th>2367</th>\n",
       "      <td>WAS</td>\n",
       "      <td>11</td>\n",
       "      <td>NaN</td>\n",
       "      <td>langhcr01w</td>\n",
       "      <td>0</td>\n",
       "      <td>laceytr99w</td>\n",
       "      <td>0</td>\n",
       "      <td>1.631433</td>\n",
       "      <td>0.226761</td>\n",
       "      <td>34.0</td>\n",
       "      <td>...</td>\n",
       "      <td>0</td>\n",
       "      <td>0</td>\n",
       "      <td>1</td>\n",
       "      <td>0</td>\n",
       "      <td>0</td>\n",
       "      <td>0</td>\n",
       "      <td>2585.0</td>\n",
       "      <td>23442.0</td>\n",
       "      <td>6873.0</td>\n",
       "      <td>16.0</td>\n",
       "    </tr>\n",
       "    <tr>\n",
       "      <th>2368</th>\n",
       "      <td>WAS</td>\n",
       "      <td>11</td>\n",
       "      <td>NaN</td>\n",
       "      <td>milleke01w</td>\n",
       "      <td>0</td>\n",
       "      <td>laceytr99w</td>\n",
       "      <td>0</td>\n",
       "      <td>1.631433</td>\n",
       "      <td>0.226761</td>\n",
       "      <td>34.0</td>\n",
       "      <td>...</td>\n",
       "      <td>0</td>\n",
       "      <td>0</td>\n",
       "      <td>0</td>\n",
       "      <td>0</td>\n",
       "      <td>1</td>\n",
       "      <td>0</td>\n",
       "      <td>2585.0</td>\n",
       "      <td>23442.0</td>\n",
       "      <td>6873.0</td>\n",
       "      <td>16.0</td>\n",
       "    </tr>\n",
       "    <tr>\n",
       "      <th>2369</th>\n",
       "      <td>WAS</td>\n",
       "      <td>11</td>\n",
       "      <td>NaN</td>\n",
       "      <td>phillta02w</td>\n",
       "      <td>0</td>\n",
       "      <td>laceytr99w</td>\n",
       "      <td>0</td>\n",
       "      <td>1.631433</td>\n",
       "      <td>0.226761</td>\n",
       "      <td>NaN</td>\n",
       "      <td>...</td>\n",
       "      <td>0</td>\n",
       "      <td>0</td>\n",
       "      <td>0</td>\n",
       "      <td>0</td>\n",
       "      <td>0</td>\n",
       "      <td>0</td>\n",
       "      <td>2585.0</td>\n",
       "      <td>23442.0</td>\n",
       "      <td>6873.0</td>\n",
       "      <td>16.0</td>\n",
       "    </tr>\n",
       "    <tr>\n",
       "      <th>2370</th>\n",
       "      <td>WAS</td>\n",
       "      <td>11</td>\n",
       "      <td>NaN</td>\n",
       "      <td>thomaja01w</td>\n",
       "      <td>0</td>\n",
       "      <td>laceytr99w</td>\n",
       "      <td>0</td>\n",
       "      <td>1.631433</td>\n",
       "      <td>0.226761</td>\n",
       "      <td>NaN</td>\n",
       "      <td>...</td>\n",
       "      <td>0</td>\n",
       "      <td>0</td>\n",
       "      <td>0</td>\n",
       "      <td>0</td>\n",
       "      <td>1</td>\n",
       "      <td>0</td>\n",
       "      <td>2585.0</td>\n",
       "      <td>23442.0</td>\n",
       "      <td>6873.0</td>\n",
       "      <td>16.0</td>\n",
       "    </tr>\n",
       "    <tr>\n",
       "      <th>2371</th>\n",
       "      <td>WAS</td>\n",
       "      <td>11</td>\n",
       "      <td>NaN</td>\n",
       "      <td>walkede01w</td>\n",
       "      <td>0</td>\n",
       "      <td>laceytr99w</td>\n",
       "      <td>0</td>\n",
       "      <td>1.631433</td>\n",
       "      <td>0.226761</td>\n",
       "      <td>34.0</td>\n",
       "      <td>...</td>\n",
       "      <td>0</td>\n",
       "      <td>1</td>\n",
       "      <td>0</td>\n",
       "      <td>0</td>\n",
       "      <td>0</td>\n",
       "      <td>0</td>\n",
       "      <td>2585.0</td>\n",
       "      <td>23442.0</td>\n",
       "      <td>6873.0</td>\n",
       "      <td>16.0</td>\n",
       "    </tr>\n",
       "  </tbody>\n",
       "</table>\n",
       "<p>5 rows × 54 columns</p>\n",
       "</div>"
      ],
      "text/plain": [
       "     tmID  year  playoff    playerID  p_stint_now     coachID  c_stint_now  \\\n",
       "2367  WAS    11      NaN  langhcr01w            0  laceytr99w            0   \n",
       "2368  WAS    11      NaN  milleke01w            0  laceytr99w            0   \n",
       "2369  WAS    11      NaN  phillta02w            0  laceytr99w            0   \n",
       "2370  WAS    11      NaN  thomaja01w            0  laceytr99w            0   \n",
       "2371  WAS    11      NaN  walkede01w            0  laceytr99w            0   \n",
       "\n",
       "      principal_component_1  principal_component_2    GP  ...  pos_C_F  pos_F  \\\n",
       "2367               1.631433               0.226761  34.0  ...        0      0   \n",
       "2368               1.631433               0.226761  34.0  ...        0      0   \n",
       "2369               1.631433               0.226761   NaN  ...        0      0   \n",
       "2370               1.631433               0.226761   NaN  ...        0      0   \n",
       "2371               1.631433               0.226761  34.0  ...        0      1   \n",
       "\n",
       "      pos_F_C  pos_F_G  pos_G  pos_G_F  totalPoints  cumulativePoints  \\\n",
       "2367        1        0      0        0       2585.0           23442.0   \n",
       "2368        0        0      1        0       2585.0           23442.0   \n",
       "2369        0        0      0        0       2585.0           23442.0   \n",
       "2370        0        0      1        0       2585.0           23442.0   \n",
       "2371        0        0      0        0       2585.0           23442.0   \n",
       "\n",
       "      totalMinutes  yearlyWins  \n",
       "2367        6873.0        16.0  \n",
       "2368        6873.0        16.0  \n",
       "2369        6873.0        16.0  \n",
       "2370        6873.0        16.0  \n",
       "2371        6873.0        16.0  \n",
       "\n",
       "[5 rows x 54 columns]"
      ]
     },
     "execution_count": 643,
     "metadata": {},
     "output_type": "execute_result"
    }
   ],
   "source": [
    "df_shift = df.merge(df_11, on=['year', 'tmID', 'playerID', 'p_stint', 'coachID', 'c_stint'], how='outer')\n",
    "\n",
    "# Change name of the columns p_stint and c_stint to p_stint_now and c_stint_now\n",
    "df_shift = df_shift.rename(columns={'p_stint': 'p_stint_now', 'c_stint': 'c_stint_now'})\n",
    "\n",
    "\n",
    "# Drop columns that have any missing values except for the target column\n",
    "columns_with_missing_values = df_shift.columns[df_shift.isna().any()].tolist()\n",
    "columns_with_missing_values.remove(target)\n",
    "df_shift = df_shift.drop(columns=columns_with_missing_values)\n",
    "# Drop duplicates\n",
    "df_shift = df_shift.drop_duplicates()\n",
    "\n",
    "# Shift year value by one (eg. 11 -> 10)\n",
    "df_shift['year'] = df_shift['year'] - 1\n",
    "\n",
    "# Merge data withe df\n",
    "df_shift = df_shift \\\n",
    "                    .merge(teams_df, on=['year', 'tmID'], how='left')\n",
    "df_shift =  df_shift \\\n",
    "                    .merge(players_teams_df, on=['year', 'playerID'], how='left') # tmID \\ \n",
    "\n",
    "# tmID_x to tmID\n",
    "df_shift = df_shift.rename(columns={'tmID_x': 'tmID'})\n",
    "df_shift = df_shift.drop(columns=['tmID_y'])\n",
    "\n",
    "df_shift = df_shift \\\n",
    "                    .merge(coaches_df, on=['year', 'coachID'], how='left') \\\n",
    "                        \n",
    "df_shift = df_shift.rename(columns={'tmID_x': 'tmID'})\n",
    "df_shift = df_shift.drop(columns=['tmID_y'])\n",
    "df_shift = df_shift \\\n",
    "                    .merge(awards_players_df, on=['playerID', 'year'], how='left') \\\n",
    "                    .merge(awards_coach_df, on=['coachID', 'year'], how='left') \\\n",
    "                    .merge(players_df, left_on='playerID', right_on='playerID', how='left')  \\\n",
    "                    .merge(teams_year_df, on=['year', 'tmID'], how='left')   \n",
    "\n",
    "\n",
    "# Drop playoff_y column\n",
    "# Rename playoff_x to playoff\n",
    "if 'playoff_y' in df_shift.columns:\n",
    "    df_shift = df_shift.drop(columns=['playoff_y'])\n",
    "    df_shift = df_shift.rename(columns={'playoff_x': 'playoff'}) \n",
    "\n",
    "# Shift back year value by one (eg. 10 -> 11)\n",
    "df_shift['year'] = df_shift['year'] + 1\n",
    "\n",
    "# Remove year 1\n",
    "df_shift = df_shift[df_shift['year'] != 1]\n",
    "\n",
    "df_shift.tail()"
   ]
  },
  {
   "cell_type": "code",
   "execution_count": 644,
   "metadata": {},
   "outputs": [
    {
     "name": "stdout",
     "output_type": "stream",
     "text": [
      "['playerID', 'p_stint_now', 'coachID', 'c_stint_now']\n",
      "[]\n"
     ]
    }
   ],
   "source": [
    "# Columns that shift have and df_all does not have\n",
    "# And vice versa\n",
    "print([x for x in df_shift.columns if x not in df_all.columns])\n",
    "print([x for x in df_all.columns if x not in df_shift.columns])"
   ]
  },
  {
   "cell_type": "code",
   "execution_count": 645,
   "metadata": {},
   "outputs": [
    {
     "data": {
      "text/plain": [
       "177"
      ]
     },
     "execution_count": 645,
     "metadata": {},
     "output_type": "execute_result"
    }
   ],
   "source": [
    "# Checking for missing values after the merge\n",
    "# Check for missing values in playoff column\n",
    "df_shift[target].isnull().sum()"
   ]
  },
  {
   "cell_type": "code",
   "execution_count": 646,
   "metadata": {},
   "outputs": [
    {
     "name": "stdout",
     "output_type": "stream",
     "text": [
      "playoff 177\n",
      "principal_component_1 97\n",
      "principal_component_2 97\n",
      "GP 559\n",
      "GS 559\n",
      "minutes 559\n",
      "points 559\n",
      "oRebounds 559\n",
      "dRebounds 559\n",
      "rebounds 559\n",
      "assists 559\n",
      "steals 559\n",
      "blocks 559\n",
      "turnovers 559\n",
      "PF 559\n",
      "fgRatio 559\n",
      "ftRatio 559\n",
      "threeRatio 559\n",
      "dq 559\n",
      "p_stint 559\n",
      "won 749\n",
      "lost 749\n",
      "c_stint 749\n",
      "All_Star_Game_Most_Valuable_Player 2084\n",
      "Defensive_Player_of_the_Year 2084\n",
      "Kim_Perrot_Sportsmanship_Award 2084\n",
      "Most_Improved_Player 2084\n",
      "Most_Valuable_Player 2084\n",
      "Rookie_of_the_Year 2084\n",
      "Sixth_Woman_of_the_Year 2084\n",
      "WNBA_All_Decade_Team_Honorable_Mention 2084\n",
      "WNBA_All_Decade_Team 2084\n",
      "WNBA_Finals_Most_Valuable_Player 2084\n",
      "Coach_of_the_Year 2001\n",
      "totalPoints 32\n",
      "cumulativePoints 32\n",
      "totalMinutes 32\n",
      "yearlyWins 32\n"
     ]
    }
   ],
   "source": [
    "# Columns with missing values\n",
    "columns_with_missing_values = df_shift.columns[df_shift.isna().any()].tolist()\n",
    "for column in columns_with_missing_values:\n",
    "    print(column, df_shift[column].isna().sum())"
   ]
  },
  {
   "cell_type": "code",
   "execution_count": 647,
   "metadata": {},
   "outputs": [
    {
     "data": {
      "text/html": [
       "<div>\n",
       "<style scoped>\n",
       "    .dataframe tbody tr th:only-of-type {\n",
       "        vertical-align: middle;\n",
       "    }\n",
       "\n",
       "    .dataframe tbody tr th {\n",
       "        vertical-align: top;\n",
       "    }\n",
       "\n",
       "    .dataframe thead th {\n",
       "        text-align: right;\n",
       "    }\n",
       "</style>\n",
       "<table border=\"1\" class=\"dataframe\">\n",
       "  <thead>\n",
       "    <tr style=\"text-align: right;\">\n",
       "      <th></th>\n",
       "      <th>tmID</th>\n",
       "      <th>year</th>\n",
       "      <th>playerID</th>\n",
       "      <th>coachID</th>\n",
       "    </tr>\n",
       "  </thead>\n",
       "  <tbody>\n",
       "    <tr>\n",
       "      <th>2195</th>\n",
       "      <td>ATL</td>\n",
       "      <td>11</td>\n",
       "      <td>balesal01w</td>\n",
       "      <td>meadoma99w</td>\n",
       "    </tr>\n",
       "    <tr>\n",
       "      <th>2196</th>\n",
       "      <td>ATL</td>\n",
       "      <td>11</td>\n",
       "      <td>castriz01w</td>\n",
       "      <td>meadoma99w</td>\n",
       "    </tr>\n",
       "    <tr>\n",
       "      <th>2197</th>\n",
       "      <td>ATL</td>\n",
       "      <td>11</td>\n",
       "      <td>desouer01w</td>\n",
       "      <td>meadoma99w</td>\n",
       "    </tr>\n",
       "    <tr>\n",
       "      <th>2198</th>\n",
       "      <td>ATL</td>\n",
       "      <td>11</td>\n",
       "      <td>hardili01w</td>\n",
       "      <td>meadoma99w</td>\n",
       "    </tr>\n",
       "    <tr>\n",
       "      <th>2199</th>\n",
       "      <td>ATL</td>\n",
       "      <td>11</td>\n",
       "      <td>irvinsa01w</td>\n",
       "      <td>meadoma99w</td>\n",
       "    </tr>\n",
       "  </tbody>\n",
       "</table>\n",
       "</div>"
      ],
      "text/plain": [
       "     tmID  year    playerID     coachID\n",
       "2195  ATL    11  balesal01w  meadoma99w\n",
       "2196  ATL    11  castriz01w  meadoma99w\n",
       "2197  ATL    11  desouer01w  meadoma99w\n",
       "2198  ATL    11  hardili01w  meadoma99w\n",
       "2199  ATL    11  irvinsa01w  meadoma99w"
      ]
     },
     "execution_count": 647,
     "metadata": {},
     "output_type": "execute_result"
    }
   ],
   "source": [
    "# The tmID, year where the missing values are located\n",
    "sample = df_shift[df_shift['playoff'].isna()][['tmID', 'year', 'playerID', 'coachID']]\n",
    "# Remove duplicates from the sample\n",
    "sample = sample.drop_duplicates()\n",
    "# Order by year and tmID\n",
    "sample = sample.sort_values(by=['year', 'tmID'])\n",
    "sample.head()"
   ]
  },
  {
   "cell_type": "code",
   "execution_count": 648,
   "metadata": {},
   "outputs": [
    {
     "name": "stdout",
     "output_type": "stream",
     "text": [
      "playoff 177\n",
      "principal_component_1 32\n",
      "principal_component_2 32\n",
      "GP 64\n",
      "GS 64\n",
      "minutes 64\n",
      "points 64\n",
      "oRebounds 64\n",
      "dRebounds 64\n",
      "rebounds 64\n",
      "assists 64\n",
      "steals 64\n",
      "blocks 64\n",
      "turnovers 64\n",
      "PF 64\n",
      "fgRatio 64\n",
      "ftRatio 64\n",
      "threeRatio 64\n",
      "dq 64\n",
      "p_stint 64\n",
      "won 80\n",
      "lost 80\n",
      "c_stint 80\n",
      "All_Star_Game_Most_Valuable_Player 170\n",
      "Defensive_Player_of_the_Year 170\n",
      "Kim_Perrot_Sportsmanship_Award 170\n",
      "Most_Improved_Player 170\n",
      "Most_Valuable_Player 170\n",
      "Rookie_of_the_Year 170\n",
      "Sixth_Woman_of_the_Year 170\n",
      "WNBA_All_Decade_Team_Honorable_Mention 170\n",
      "WNBA_All_Decade_Team 170\n",
      "WNBA_Finals_Most_Valuable_Player 170\n",
      "Coach_of_the_Year 164\n",
      "totalPoints 32\n",
      "cumulativePoints 32\n",
      "totalMinutes 32\n",
      "yearlyWins 32\n"
     ]
    }
   ],
   "source": [
    "# Columns with missing values on year 11\n",
    "columns_with_missing_values_11 = df_shift[df_shift['year'] == 11].columns[df_shift[df_shift['year'] == 11].isna().any()].tolist()\n",
    "for column in columns_with_missing_values_11:\n",
    "    print(column, df_shift[df_shift['year'] == 11][column].isna().sum())\n",
    "    "
   ]
  },
  {
   "cell_type": "code",
   "execution_count": 649,
   "metadata": {},
   "outputs": [
    {
     "data": {
      "text/plain": [
       "[['ATL', 11],\n",
       " ['CHI', 11],\n",
       " ['CON', 11],\n",
       " ['IND', 11],\n",
       " ['LAS', 11],\n",
       " ['MIN', 11],\n",
       " ['NYL', 11],\n",
       " ['PHO', 11],\n",
       " ['SAS', 11],\n",
       " ['SEA', 11],\n",
       " ['TUL', 11],\n",
       " ['WAS', 11]]"
      ]
     },
     "execution_count": 649,
     "metadata": {},
     "output_type": "execute_result"
    }
   ],
   "source": [
    "# Distinct pairs of tmID-year when the year is 11\n",
    "df_shift[df_shift['year'] == 11][['tmID', 'year']].drop_duplicates().shape\n",
    "\n",
    "# Unique values of year tmmID in year 11\n",
    "df_shift[df_shift['year'] == 11][['tmID', 'year']].drop_duplicates().values.tolist()"
   ]
  },
  {
   "cell_type": "code",
   "execution_count": 650,
   "metadata": {},
   "outputs": [],
   "source": [
    "# Store the df_shift DataFrame into the database\n",
    "table_name = 'merged_shift'\n",
    "schema = schema_builder(df_shift)\n",
    "schema = f\"Create Table {table_name} ({schema})\"\n",
    "insert_dataframe(df_shift, table_name, data, schema)"
   ]
  }
 ],
 "metadata": {
  "kernelspec": {
   "display_name": "Python 3",
   "language": "python",
   "name": "python3"
  },
  "language_info": {
   "codemirror_mode": {
    "name": "ipython",
    "version": 3
   },
   "file_extension": ".py",
   "mimetype": "text/x-python",
   "name": "python",
   "nbconvert_exporter": "python",
   "pygments_lexer": "ipython3",
   "version": "3.10.11"
  }
 },
 "nbformat": 4,
 "nbformat_minor": 2
}
