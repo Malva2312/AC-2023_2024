{
 "cells": [
  {
   "cell_type": "code",
   "execution_count": 19,
   "metadata": {},
   "outputs": [],
   "source": [
    "# Importing libraries for data manipulation\n",
    "import sqlite3\n",
    "import pandas as pd\n",
    "\n",
    "# Importing libraries for data visualization\n",
    "import matplotlib.pyplot as plt\n",
    "import numpy as np\n",
    "\n",
    "# Importing libraries for data preprocessing\n",
    "from sklearn.pipeline import Pipeline\n",
    "from sklearn.preprocessing import StandardScaler\n",
    "from sklearn.preprocessing import LabelEncoder\n",
    "\n",
    "# Importing libraries for classification\n",
    "from sklearn.metrics import accuracy_score, precision_score, recall_score, f1_score, roc_auc_score\n",
    "from sklearn.metrics import classification_report\n",
    "\n",
    "# Importing libraries for classification models\n",
    "from sklearn.ensemble import RandomForestClassifier\n",
    "from sklearn.svm import SVC\n",
    "from sklearn.linear_model import LogisticRegression\n",
    "from sklearn.neural_network import MLPClassifier\n",
    "from sklearn.ensemble import GradientBoostingClassifier\n",
    "\n",
    "from sklearn.model_selection import GridSearchCV\n",
    "\n",
    "from py_helpers.pipeline_helper import *\n",
    "from py_helpers.db_helper import *"
   ]
  },
  {
   "cell_type": "code",
   "execution_count": 20,
   "metadata": {},
   "outputs": [],
   "source": [
    "seed = 42\n",
    "target = 'playoff'\n",
    "data = './db/WNBA_filtered.db'\n",
    "tables = ['Awards_Players', 'Coaches', 'Players', 'Players_Teams', 'Teams', 'Teams_Year']"
   ]
  },
  {
   "cell_type": "code",
   "execution_count": 21,
   "metadata": {},
   "outputs": [],
   "source": [
    "awards_players_df = retrieve_data(data, tables[0])  \n",
    "coaches_df = retrieve_data(data, tables[1])  \n",
    "players_df = retrieve_data(data, tables[2])  \n",
    "players_teams_df = retrieve_data(data, tables[3])  \n",
    "teams_df = retrieve_data(data, tables[4])  \n",
    "teams_year_df = retrieve_data(data, tables[5])"
   ]
  },
  {
   "cell_type": "code",
   "execution_count": 22,
   "metadata": {},
   "outputs": [
    {
     "data": {
      "text/plain": [
       "Index(['year', 'tmID', 'rank', 'playoff', 'o_fgm', 'o_fga', 'o_ftm', 'o_fta',\n",
       "       'o_3pm', 'o_3pa', 'o_oreb', 'o_dreb', 'o_reb', 'o_asts', 'o_pf',\n",
       "       'o_stl', 'o_to', 'o_blk', 'o_pts', 'd_fgm', 'd_fga', 'd_ftm', 'd_fta',\n",
       "       'd_3pm', 'd_3pa', 'd_oreb', 'd_dreb', 'd_reb', 'd_asts', 'd_pf',\n",
       "       'd_stl', 'd_to', 'd_blk', 'd_pts', 'homeW', 'homeL', 'awayW', 'awayL',\n",
       "       'last_year_rank', 'playerID', 'stint', 'GP', 'GS', 'minutes', 'points',\n",
       "       'oRebounds', 'dRebounds', 'rebounds', 'assists', 'steals', 'blocks',\n",
       "       'turnovers', 'PF', 'fgRatio', 'ftRatio', 'threeRatio', 'dq', 'bioID',\n",
       "       'height', 'weight', 'birthYear', 'pos_C', 'pos_C_F', 'pos_F', 'pos_F_C',\n",
       "       'pos_F_G', 'pos_G', 'pos_G_F', 'coachID', 'won', 'lost', 'c_stint',\n",
       "       'All_Star_Game_Most_Valuable_Player', 'Defensive_Player_of_the_Year',\n",
       "       'Kim_Perrot_Sportsmanship_Award', 'Most_Improved_Player',\n",
       "       'Most_Valuable_Player', 'Rookie_of_the_Year', 'Sixth_Woman_of_the_Year',\n",
       "       'WNBA_All_Decade_Team_Honorable_Mention', 'WNBA_All_Decade_Team',\n",
       "       'WNBA_Finals_Most_Valuable_Player', 'totalPoints', 'cumulativePoints',\n",
       "       'totalMinutes', 'yearlyWins'],\n",
       "      dtype='object')"
      ]
     },
     "execution_count": 22,
     "metadata": {},
     "output_type": "execute_result"
    }
   ],
   "source": [
    "# Join the DataFrames\n",
    "df = teams_df.merge(players_teams_df, on=['year', 'tmID'], how='left') \\\n",
    "                   .merge(players_df, left_on='playerID', right_on='bioID', how='left') \\\n",
    "                   .merge(coaches_df, on=['year', 'tmID'], how='left') \\\n",
    "                   .merge(awards_players_df, on=['playerID', 'year'], how='left') \\\n",
    "                   .merge(teams_year_df, on=['year', 'tmID'], how='left')\n",
    "df.columns"
   ]
  },
  {
   "cell_type": "code",
   "execution_count": 23,
   "metadata": {},
   "outputs": [
    {
     "ename": "KeyError",
     "evalue": "''",
     "output_type": "error",
     "traceback": [
      "\u001b[1;31m---------------------------------------------------------------------------\u001b[0m",
      "\u001b[1;31mKeyError\u001b[0m                                  Traceback (most recent call last)",
      "File \u001b[1;32m~\\AppData\\Local\\Packages\\PythonSoftwareFoundation.Python.3.10_qbz5n2kfra8p0\\LocalCache\\local-packages\\Python310\\site-packages\\pandas\\core\\indexes\\base.py:3790\u001b[0m, in \u001b[0;36mIndex.get_loc\u001b[1;34m(self, key)\u001b[0m\n\u001b[0;32m   3789\u001b[0m \u001b[39mtry\u001b[39;00m:\n\u001b[1;32m-> 3790\u001b[0m     \u001b[39mreturn\u001b[39;00m \u001b[39mself\u001b[39;49m\u001b[39m.\u001b[39;49m_engine\u001b[39m.\u001b[39;49mget_loc(casted_key)\n\u001b[0;32m   3791\u001b[0m \u001b[39mexcept\u001b[39;00m \u001b[39mKeyError\u001b[39;00m \u001b[39mas\u001b[39;00m err:\n",
      "File \u001b[1;32mindex.pyx:152\u001b[0m, in \u001b[0;36mpandas._libs.index.IndexEngine.get_loc\u001b[1;34m()\u001b[0m\n",
      "File \u001b[1;32mindex.pyx:181\u001b[0m, in \u001b[0;36mpandas._libs.index.IndexEngine.get_loc\u001b[1;34m()\u001b[0m\n",
      "File \u001b[1;32mpandas\\_libs\\hashtable_class_helper.pxi:7080\u001b[0m, in \u001b[0;36mpandas._libs.hashtable.PyObjectHashTable.get_item\u001b[1;34m()\u001b[0m\n",
      "File \u001b[1;32mpandas\\_libs\\hashtable_class_helper.pxi:7088\u001b[0m, in \u001b[0;36mpandas._libs.hashtable.PyObjectHashTable.get_item\u001b[1;34m()\u001b[0m\n",
      "\u001b[1;31mKeyError\u001b[0m: ''",
      "\nThe above exception was the direct cause of the following exception:\n",
      "\u001b[1;31mKeyError\u001b[0m                                  Traceback (most recent call last)",
      "\u001b[1;32mc:\\Users\\janto\\OneDrive\\Ambiente de Trabalho\\Faculdade\\4ºAno\\AC\\AC-2023_2024\\notebooks\\main.ipynb Cell 5\u001b[0m line \u001b[0;36m7\n\u001b[0;32m      <a href='vscode-notebook-cell:/c%3A/Users/janto/OneDrive/Ambiente%20de%20Trabalho/Faculdade/4%C2%BAAno/AC/AC-2023_2024/notebooks/main.ipynb#W2sZmlsZQ%3D%3D?line=3'>4</a>\u001b[0m teams_csv \u001b[39m=\u001b[39m \u001b[39m'\u001b[39m\u001b[39m../season_11/teams.csv\u001b[39m\u001b[39m'\u001b[39m\n\u001b[0;32m      <a href='vscode-notebook-cell:/c%3A/Users/janto/OneDrive/Ambiente%20de%20Trabalho/Faculdade/4%C2%BAAno/AC/AC-2023_2024/notebooks/main.ipynb#W2sZmlsZQ%3D%3D?line=5'>6</a>\u001b[0m df_coaches \u001b[39m=\u001b[39m pd\u001b[39m.\u001b[39mread_csv(coaches_csv)\n\u001b[1;32m----> <a href='vscode-notebook-cell:/c%3A/Users/janto/OneDrive/Ambiente%20de%20Trabalho/Faculdade/4%C2%BAAno/AC/AC-2023_2024/notebooks/main.ipynb#W2sZmlsZQ%3D%3D?line=6'>7</a>\u001b[0m df_coaches[\u001b[39m'\u001b[39;49m\u001b[39m'\u001b[39;49m]\n\u001b[0;32m      <a href='vscode-notebook-cell:/c%3A/Users/janto/OneDrive/Ambiente%20de%20Trabalho/Faculdade/4%C2%BAAno/AC/AC-2023_2024/notebooks/main.ipynb#W2sZmlsZQ%3D%3D?line=8'>9</a>\u001b[0m df_players_teams \u001b[39m=\u001b[39m pd\u001b[39m.\u001b[39mread_csv(players_teams_csv)\n\u001b[0;32m     <a href='vscode-notebook-cell:/c%3A/Users/janto/OneDrive/Ambiente%20de%20Trabalho/Faculdade/4%C2%BAAno/AC/AC-2023_2024/notebooks/main.ipynb#W2sZmlsZQ%3D%3D?line=9'>10</a>\u001b[0m df_teams \u001b[39m=\u001b[39m pd\u001b[39m.\u001b[39mread_csv(teams_csv)\n",
      "File \u001b[1;32m~\\AppData\\Local\\Packages\\PythonSoftwareFoundation.Python.3.10_qbz5n2kfra8p0\\LocalCache\\local-packages\\Python310\\site-packages\\pandas\\core\\frame.py:3893\u001b[0m, in \u001b[0;36mDataFrame.__getitem__\u001b[1;34m(self, key)\u001b[0m\n\u001b[0;32m   3891\u001b[0m \u001b[39mif\u001b[39;00m \u001b[39mself\u001b[39m\u001b[39m.\u001b[39mcolumns\u001b[39m.\u001b[39mnlevels \u001b[39m>\u001b[39m \u001b[39m1\u001b[39m:\n\u001b[0;32m   3892\u001b[0m     \u001b[39mreturn\u001b[39;00m \u001b[39mself\u001b[39m\u001b[39m.\u001b[39m_getitem_multilevel(key)\n\u001b[1;32m-> 3893\u001b[0m indexer \u001b[39m=\u001b[39m \u001b[39mself\u001b[39;49m\u001b[39m.\u001b[39;49mcolumns\u001b[39m.\u001b[39;49mget_loc(key)\n\u001b[0;32m   3894\u001b[0m \u001b[39mif\u001b[39;00m is_integer(indexer):\n\u001b[0;32m   3895\u001b[0m     indexer \u001b[39m=\u001b[39m [indexer]\n",
      "File \u001b[1;32m~\\AppData\\Local\\Packages\\PythonSoftwareFoundation.Python.3.10_qbz5n2kfra8p0\\LocalCache\\local-packages\\Python310\\site-packages\\pandas\\core\\indexes\\base.py:3797\u001b[0m, in \u001b[0;36mIndex.get_loc\u001b[1;34m(self, key)\u001b[0m\n\u001b[0;32m   3792\u001b[0m     \u001b[39mif\u001b[39;00m \u001b[39misinstance\u001b[39m(casted_key, \u001b[39mslice\u001b[39m) \u001b[39mor\u001b[39;00m (\n\u001b[0;32m   3793\u001b[0m         \u001b[39misinstance\u001b[39m(casted_key, abc\u001b[39m.\u001b[39mIterable)\n\u001b[0;32m   3794\u001b[0m         \u001b[39mand\u001b[39;00m \u001b[39many\u001b[39m(\u001b[39misinstance\u001b[39m(x, \u001b[39mslice\u001b[39m) \u001b[39mfor\u001b[39;00m x \u001b[39min\u001b[39;00m casted_key)\n\u001b[0;32m   3795\u001b[0m     ):\n\u001b[0;32m   3796\u001b[0m         \u001b[39mraise\u001b[39;00m InvalidIndexError(key)\n\u001b[1;32m-> 3797\u001b[0m     \u001b[39mraise\u001b[39;00m \u001b[39mKeyError\u001b[39;00m(key) \u001b[39mfrom\u001b[39;00m \u001b[39merr\u001b[39;00m\n\u001b[0;32m   3798\u001b[0m \u001b[39mexcept\u001b[39;00m \u001b[39mTypeError\u001b[39;00m:\n\u001b[0;32m   3799\u001b[0m     \u001b[39m# If we have a listlike key, _check_indexing_error will raise\u001b[39;00m\n\u001b[0;32m   3800\u001b[0m     \u001b[39m#  InvalidIndexError. Otherwise we fall through and re-raise\u001b[39;00m\n\u001b[0;32m   3801\u001b[0m     \u001b[39m#  the TypeError.\u001b[39;00m\n\u001b[0;32m   3802\u001b[0m     \u001b[39mself\u001b[39m\u001b[39m.\u001b[39m_check_indexing_error(key)\n",
      "\u001b[1;31mKeyError\u001b[0m: ''"
     ]
    }
   ],
   "source": [
    "# Data from the eleveth year\n",
    "coaches_csv = '../season_11/coaches.csv'\n",
    "players_teams_csv = '../season_11/players_teams.csv'\n",
    "teams_csv = '../season_11/teams.csv'\n",
    "\n",
    "df_coaches = pd.read_csv(coaches_csv)\n",
    "\n",
    "\n",
    "df_players_teams = pd.read_csv(players_teams_csv)\n",
    "df_teams = pd.read_csv(teams_csv)"
   ]
  },
  {
   "cell_type": "code",
   "execution_count": null,
   "metadata": {},
   "outputs": [
    {
     "data": {
      "text/plain": [
       "Index(['coachID', 'year', 'tmID', 'lgID_x', 'stint_x', 'playerID', 'stint_y',\n",
       "       'lgID_y', 'lgID', 'franchID', 'confID', 'name', 'arena'],\n",
       "      dtype='object')"
      ]
     },
     "execution_count": 18,
     "metadata": {},
     "output_type": "execute_result"
    }
   ],
   "source": [
    "df_11 = pd.merge(df_coaches, df_players_teams, on=['year', 'tmID'], how='inner')\n",
    "df_11 = pd.merge(df_11, df_teams, on=['year', 'tmID'], how='inner')\n",
    "df_11.columns"
   ]
  },
  {
   "cell_type": "code",
   "execution_count": null,
   "metadata": {},
   "outputs": [],
   "source": [
    "df_11 = pd.merge(df_coaches, df_players_teams, on=['year', 'tmID'], how='inner')\n",
    "df_11 = pd.merge(df_11, df_teams, on=['year', 'tmID'], how='inner')\n",
    "df_11.shape"
   ]
  },
  {
   "cell_type": "code",
   "execution_count": null,
   "metadata": {},
   "outputs": [
    {
     "data": {
      "text/plain": [
       "['ATL',\n",
       " 'CHA',\n",
       " 'CHI',\n",
       " 'CLE',\n",
       " 'CON',\n",
       " 'DET',\n",
       " 'HOU',\n",
       " 'IND',\n",
       " 'LAS',\n",
       " 'MIA',\n",
       " 'MIN',\n",
       " 'NYL',\n",
       " 'ORL',\n",
       " 'PHO',\n",
       " 'POR',\n",
       " 'SAC',\n",
       " 'SAS',\n",
       " 'SEA',\n",
       " 'TUL',\n",
       " 'UTA',\n",
       " 'WAS']"
      ]
     },
     "execution_count": 12,
     "metadata": {},
     "output_type": "execute_result"
    }
   ],
   "source": [
    "team_names = df['tmID'].unique().tolist()\n",
    "new_teams = df_11['tmID'].unique().tolist()\n",
    "team_names = list(set(team_names + new_teams))\n",
    "team_names.sort()\n",
    "team_names"
   ]
  },
  {
   "cell_type": "code",
   "execution_count": null,
   "metadata": {},
   "outputs": [
    {
     "name": "stdout",
     "output_type": "stream",
     "text": [
      "[ 0  1  2  3  4  5  6  7  8  9 10 11 12 13 14 15 16 17 18 19 20]\n"
     ]
    }
   ],
   "source": [
    "len(team_names)\n",
    "encoder = LabelEncoder()\n",
    "team_names = encoder.fit_transform(team_names)\n",
    "print(team_names)"
   ]
  },
  {
   "cell_type": "code",
   "execution_count": null,
   "metadata": {},
   "outputs": [
    {
     "data": {
      "text/plain": [
       "Index(['year', 'tmID', 'rank', 'playoff', 'o_fgm', 'o_fga', 'o_ftm', 'o_fta',\n",
       "       'o_3pm', 'o_3pa', 'o_oreb', 'o_dreb', 'o_reb', 'o_asts', 'o_pf',\n",
       "       'o_stl', 'o_to', 'o_blk', 'o_pts', 'd_fgm', 'd_fga', 'd_ftm', 'd_fta',\n",
       "       'd_3pm', 'd_3pa', 'd_oreb', 'd_dreb', 'd_reb', 'd_asts', 'd_pf',\n",
       "       'd_stl', 'd_to', 'd_blk', 'd_pts', 'homeW', 'homeL', 'awayW', 'awayL',\n",
       "       'last_year_rank', 'playerID', 'stint_x', 'GP', 'GS', 'minutes',\n",
       "       'points', 'oRebounds', 'dRebounds', 'rebounds', 'assists', 'steals',\n",
       "       'blocks', 'turnovers', 'PF', 'fgRatio', 'ftRatio', 'threeRatio', 'dq',\n",
       "       'bioID', 'height', 'weight', 'birthYear', 'pos_C', 'pos_C_F', 'pos_F',\n",
       "       'pos_F_C', 'pos_F_G', 'pos_G', 'pos_G_F', 'coachID', 'stint_y', 'won',\n",
       "       'lost', 'All_Star_Game_Most_Valuable_Player',\n",
       "       'Defensive_Player_of_the_Year', 'Kim_Perrot_Sportsmanship_Award',\n",
       "       'Most_Improved_Player', 'Most_Valuable_Player', 'Rookie_of_the_Year',\n",
       "       'Sixth_Woman_of_the_Year', 'WNBA_All_Decade_Team_Honorable_Mention',\n",
       "       'WNBA_All_Decade_Team', 'WNBA_Finals_Most_Valuable_Player',\n",
       "       'totalPoints', 'cumulativePoints', 'totalMinutes', 'yearlyWins'],\n",
       "      dtype='object')"
      ]
     },
     "execution_count": 14,
     "metadata": {},
     "output_type": "execute_result"
    }
   ],
   "source": [
    "df.columns"
   ]
  },
  {
   "cell_type": "code",
   "execution_count": null,
   "metadata": {},
   "outputs": [
    {
     "data": {
      "text/plain": [
       "Index(['coachID', 'year', 'tmID', 'lgID_x', 'stint_x', 'playerID', 'stint_y',\n",
       "       'lgID_y', 'lgID', 'franchID', 'confID', 'name', 'arena'],\n",
       "      dtype='object')"
      ]
     },
     "execution_count": 15,
     "metadata": {},
     "output_type": "execute_result"
    }
   ],
   "source": [
    "df_11.columns"
   ]
  },
  {
   "cell_type": "code",
   "execution_count": null,
   "metadata": {},
   "outputs": [],
   "source": []
  }
 ],
 "metadata": {
  "kernelspec": {
   "display_name": "Python 3",
   "language": "python",
   "name": "python3"
  },
  "language_info": {
   "codemirror_mode": {
    "name": "ipython",
    "version": 3
   },
   "file_extension": ".py",
   "mimetype": "text/x-python",
   "name": "python",
   "nbconvert_exporter": "python",
   "pygments_lexer": "ipython3",
   "version": "3.10.11"
  }
 },
 "nbformat": 4,
 "nbformat_minor": 2
}
