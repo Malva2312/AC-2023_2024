{
 "cells": [
  {
   "cell_type": "code",
   "execution_count": 1,
   "metadata": {},
   "outputs": [],
   "source": [
    "# Importing libraries for data manipulation\n",
    "import sqlite3\n",
    "import pandas as pd\n",
    "\n",
    "# Importing libraries for data visualization\n",
    "import matplotlib.pyplot as plt\n",
    "import numpy as np\n",
    "\n",
    "# Importing libraries for data preprocessing\n",
    "from sklearn.pipeline import Pipeline\n",
    "from sklearn.preprocessing import StandardScaler\n",
    "from sklearn.preprocessing import LabelEncoder\n",
    "\n",
    "# Importing libraries for classification\n",
    "from sklearn.metrics import accuracy_score, precision_score, recall_score, f1_score, roc_auc_score\n",
    "from sklearn.metrics import classification_report\n",
    "\n",
    "# Importing libraries for classification models\n",
    "from sklearn.ensemble import RandomForestClassifier\n",
    "from sklearn.svm import SVC\n",
    "from sklearn.linear_model import LogisticRegression\n",
    "from sklearn.neural_network import MLPClassifier\n",
    "from sklearn.ensemble import GradientBoostingClassifier\n",
    "\n",
    "from sklearn.model_selection import GridSearchCV\n",
    "\n",
    "from py_helpers.pipeline_helper import *\n",
    "from py_helpers.db_helper import *"
   ]
  },
  {
   "cell_type": "code",
   "execution_count": 2,
   "metadata": {},
   "outputs": [],
   "source": [
    "seed = 42\n",
    "target = 'playoff'\n",
    "data = './db/WNBA_filtered.db'\n",
    "tables = ['Awards_Players', 'Coaches', 'Players', 'Players_Teams', 'Teams', 'Teams_Year']"
   ]
  },
  {
   "cell_type": "code",
   "execution_count": 3,
   "metadata": {},
   "outputs": [],
   "source": [
    "awards_players_df = retrieve_data(data, tables[0])  \n",
    "coaches_df = retrieve_data(data, tables[1])  \n",
    "players_df = retrieve_data(data, tables[2])  \n",
    "players_teams_df = retrieve_data(data, tables[3])  \n",
    "teams_df = retrieve_data(data, tables[4])  \n",
    "teams_year_df = retrieve_data(data, tables[5])"
   ]
  },
  {
   "cell_type": "code",
   "execution_count": 4,
   "metadata": {},
   "outputs": [
    {
     "data": {
      "text/plain": [
       "['year',\n",
       " 'tmID',\n",
       " 'rank',\n",
       " 'playoff',\n",
       " 'o_fgm',\n",
       " 'o_fga',\n",
       " 'o_ftm',\n",
       " 'o_fta',\n",
       " 'o_3pm',\n",
       " 'o_3pa',\n",
       " 'o_oreb',\n",
       " 'o_dreb',\n",
       " 'o_reb',\n",
       " 'o_asts',\n",
       " 'o_pf',\n",
       " 'o_stl',\n",
       " 'o_to',\n",
       " 'o_blk',\n",
       " 'o_pts',\n",
       " 'd_fgm',\n",
       " 'd_fga',\n",
       " 'd_ftm',\n",
       " 'd_fta',\n",
       " 'd_3pm',\n",
       " 'd_3pa',\n",
       " 'd_oreb',\n",
       " 'd_dreb',\n",
       " 'd_reb',\n",
       " 'd_asts',\n",
       " 'd_pf',\n",
       " 'd_stl',\n",
       " 'd_to',\n",
       " 'd_blk',\n",
       " 'd_pts',\n",
       " 'homeW',\n",
       " 'homeL',\n",
       " 'awayW',\n",
       " 'awayL',\n",
       " 'last_year_rank',\n",
       " 'playerID',\n",
       " 'GP',\n",
       " 'GS',\n",
       " 'minutes',\n",
       " 'points',\n",
       " 'oRebounds',\n",
       " 'dRebounds',\n",
       " 'rebounds',\n",
       " 'assists',\n",
       " 'steals',\n",
       " 'blocks',\n",
       " 'turnovers',\n",
       " 'PF',\n",
       " 'fgRatio',\n",
       " 'ftRatio',\n",
       " 'threeRatio',\n",
       " 'dq',\n",
       " 'p_stint',\n",
       " 'coachID',\n",
       " 'won',\n",
       " 'lost',\n",
       " 'c_stint',\n",
       " 'All_Star_Game_Most_Valuable_Player',\n",
       " 'Defensive_Player_of_the_Year',\n",
       " 'Kim_Perrot_Sportsmanship_Award',\n",
       " 'Most_Improved_Player',\n",
       " 'Most_Valuable_Player',\n",
       " 'Rookie_of_the_Year',\n",
       " 'Sixth_Woman_of_the_Year',\n",
       " 'WNBA_All_Decade_Team_Honorable_Mention',\n",
       " 'WNBA_All_Decade_Team',\n",
       " 'WNBA_Finals_Most_Valuable_Player',\n",
       " 'totalPoints',\n",
       " 'cumulativePoints',\n",
       " 'totalMinutes',\n",
       " 'yearlyWins']"
      ]
     },
     "execution_count": 4,
     "metadata": {},
     "output_type": "execute_result"
    }
   ],
   "source": [
    "# Join the DataFrames\n",
    "df = teams_df.merge(players_teams_df, on=['year', 'tmID'], how='left') \\\n",
    "                   .merge(coaches_df, on=['year', 'tmID'], how='left') \\\n",
    "                   .merge(awards_players_df, on=['playerID', 'year'], how='left') \\\n",
    "                   .merge(teams_year_df, on=['year', 'tmID'], how='left')\n",
    "                   #.merge(players_df, left_on='playerID', right_on='playerID', how='left') \\\n",
    "\n",
    "# Drop the columns that are not needed\n",
    "\n",
    "list(df.columns)"
   ]
  },
  {
   "cell_type": "code",
   "execution_count": 5,
   "metadata": {},
   "outputs": [],
   "source": [
    "# Data from the eleveth year\n",
    "coaches_csv = '../season_11/coaches.csv'\n",
    "players_teams_csv = '../season_11/players_teams.csv'\n",
    "teams_csv = '../season_11/teams.csv'\n",
    "\n",
    "coaches_df_11 = pd.read_csv(coaches_csv)\n",
    "coaches_df_11['c_stint'] = coaches_df_11['stint']\n",
    "coaches_df_11 = coaches_df_11.drop(columns=['stint'])\n",
    "\n",
    "players_teams_df_11 = pd.read_csv(players_teams_csv)\n",
    "players_teams_df_11['p_stint'] = players_teams_df_11['stint']\n",
    "players_teams_df_11 = players_teams_df_11.drop(['stint'], axis=1)\n",
    "\n",
    "teams_df_11 = pd.read_csv(teams_csv)"
   ]
  },
  {
   "cell_type": "code",
   "execution_count": 6,
   "metadata": {},
   "outputs": [],
   "source": [
    "# Having coaches_df and coaches_df_11\n",
    "# Remove coaches_df_11 columns that are not in coaches_df\n",
    "# Coaches_df could have more columns than coaches_df_11\n",
    "coaches_df_11_cols = [x for x in coaches_df_11.columns if x in coaches_df.columns]\n",
    "coaches_df_11 = coaches_df_11[coaches_df_11_cols]\n",
    "\n",
    "# Having players_teams_df and players_teams_df_11\n",
    "# Remove players_teams_df_11 columns that are not in players_teams_df\n",
    "# players_teams_df could have more columns than players_teams_df_11\n",
    "players_teams_df_11_cols = [x for x in players_teams_df_11.columns if x in players_teams_df.columns]\n",
    "players_teams_df_11 = players_teams_df_11[players_teams_df_11_cols]\n",
    "\n",
    "# Having df_teams and teams_df\n",
    "# Remove df_teams columns that are not in teams_df\n",
    "# teams_df could have more columns than df_teams\n",
    "teams_df_11_cols = [x for x in teams_df_11.columns if x in teams_df.columns]\n",
    "teams_df_11 = teams_df_11[teams_df_11_cols]"
   ]
  },
  {
   "cell_type": "code",
   "execution_count": 7,
   "metadata": {},
   "outputs": [
    {
     "data": {
      "text/plain": [
       "Index(['year', 'tmID', 'playerID', 'p_stint', 'coachID', 'c_stint'], dtype='object')"
      ]
     },
     "execution_count": 7,
     "metadata": {},
     "output_type": "execute_result"
    }
   ],
   "source": [
    "# Merge the DataFrames of the eleventh year\n",
    "df_11 = teams_df_11.merge(players_teams_df_11, on=['year', 'tmID'], how='left') \\\n",
    "                     .merge(coaches_df_11, on=['year', 'tmID'], how='left')\n",
    "df_11.columns"
   ]
  },
  {
   "cell_type": "code",
   "execution_count": 8,
   "metadata": {},
   "outputs": [
    {
     "data": {
      "text/html": [
       "<div>\n",
       "<style scoped>\n",
       "    .dataframe tbody tr th:only-of-type {\n",
       "        vertical-align: middle;\n",
       "    }\n",
       "\n",
       "    .dataframe tbody tr th {\n",
       "        vertical-align: top;\n",
       "    }\n",
       "\n",
       "    .dataframe thead th {\n",
       "        text-align: right;\n",
       "    }\n",
       "</style>\n",
       "<table border=\"1\" class=\"dataframe\">\n",
       "  <thead>\n",
       "    <tr style=\"text-align: right;\">\n",
       "      <th></th>\n",
       "      <th>year</th>\n",
       "      <th>tmID</th>\n",
       "      <th>playerID</th>\n",
       "      <th>p_stint</th>\n",
       "      <th>coachID</th>\n",
       "      <th>c_stint</th>\n",
       "    </tr>\n",
       "  </thead>\n",
       "  <tbody>\n",
       "    <tr>\n",
       "      <th>0</th>\n",
       "      <td>11</td>\n",
       "      <td>ATL</td>\n",
       "      <td>balesal01w</td>\n",
       "      <td>0</td>\n",
       "      <td>meadoma99w</td>\n",
       "      <td>0</td>\n",
       "    </tr>\n",
       "    <tr>\n",
       "      <th>1</th>\n",
       "      <td>11</td>\n",
       "      <td>ATL</td>\n",
       "      <td>castriz01w</td>\n",
       "      <td>0</td>\n",
       "      <td>meadoma99w</td>\n",
       "      <td>0</td>\n",
       "    </tr>\n",
       "    <tr>\n",
       "      <th>2</th>\n",
       "      <td>11</td>\n",
       "      <td>ATL</td>\n",
       "      <td>desouer01w</td>\n",
       "      <td>0</td>\n",
       "      <td>meadoma99w</td>\n",
       "      <td>0</td>\n",
       "    </tr>\n",
       "    <tr>\n",
       "      <th>3</th>\n",
       "      <td>11</td>\n",
       "      <td>ATL</td>\n",
       "      <td>hardili01w</td>\n",
       "      <td>0</td>\n",
       "      <td>meadoma99w</td>\n",
       "      <td>0</td>\n",
       "    </tr>\n",
       "    <tr>\n",
       "      <th>4</th>\n",
       "      <td>11</td>\n",
       "      <td>ATL</td>\n",
       "      <td>irvinsa01w</td>\n",
       "      <td>0</td>\n",
       "      <td>meadoma99w</td>\n",
       "      <td>0</td>\n",
       "    </tr>\n",
       "  </tbody>\n",
       "</table>\n",
       "</div>"
      ],
      "text/plain": [
       "   year tmID    playerID  p_stint     coachID  c_stint\n",
       "0    11  ATL  balesal01w        0  meadoma99w        0\n",
       "1    11  ATL  castriz01w        0  meadoma99w        0\n",
       "2    11  ATL  desouer01w        0  meadoma99w        0\n",
       "3    11  ATL  hardili01w        0  meadoma99w        0\n",
       "4    11  ATL  irvinsa01w        0  meadoma99w        0"
      ]
     },
     "execution_count": 8,
     "metadata": {},
     "output_type": "execute_result"
    }
   ],
   "source": [
    "df_11.head()"
   ]
  },
  {
   "cell_type": "code",
   "execution_count": 9,
   "metadata": {},
   "outputs": [
    {
     "data": {
      "text/plain": [
       "['ATL',\n",
       " 'CHA',\n",
       " 'CHI',\n",
       " 'CLE',\n",
       " 'CON',\n",
       " 'DET',\n",
       " 'HOU',\n",
       " 'IND',\n",
       " 'LAS',\n",
       " 'MIA',\n",
       " 'MIN',\n",
       " 'NYL',\n",
       " 'ORL',\n",
       " 'PHO',\n",
       " 'POR',\n",
       " 'SAC',\n",
       " 'SAS',\n",
       " 'SEA',\n",
       " 'TUL',\n",
       " 'UTA',\n",
       " 'WAS']"
      ]
     },
     "execution_count": 9,
     "metadata": {},
     "output_type": "execute_result"
    }
   ],
   "source": [
    "team_names = df['tmID'].unique().tolist()\n",
    "new_teams = df_11['tmID'].unique().tolist()\n",
    "team_names = list(set(team_names + new_teams))\n",
    "team_names.sort()\n",
    "team_names"
   ]
  },
  {
   "cell_type": "code",
   "execution_count": 10,
   "metadata": {},
   "outputs": [
    {
     "name": "stdout",
     "output_type": "stream",
     "text": [
      "[ 0  1  2  3  4  5  6  7  8  9 10 11 12 13 14 15 16 17 18 19 20]\n"
     ]
    }
   ],
   "source": [
    "len(team_names)\n",
    "encoder = LabelEncoder()\n",
    "team_names = encoder.fit_transform(team_names)\n",
    "print(team_names)"
   ]
  },
  {
   "cell_type": "code",
   "execution_count": 11,
   "metadata": {},
   "outputs": [
    {
     "name": "stdout",
     "output_type": "stream",
     "text": [
      "['year', 'tmID', 'playerID', 'p_stint', 'coachID', 'c_stint']\n",
      "['year', 'tmID', 'playerID', 'p_stint', 'coachID', 'c_stint']\n"
     ]
    }
   ],
   "source": [
    "print([x for x in df_11.columns if x in df.columns])\n",
    "print(list(df_11.columns))"
   ]
  },
  {
   "cell_type": "code",
   "execution_count": 12,
   "metadata": {},
   "outputs": [
    {
     "name": "stdout",
     "output_type": "stream",
     "text": [
      "['rank', 'playoff', 'o_fgm', 'o_fga', 'o_ftm', 'o_fta', 'o_3pm', 'o_3pa', 'o_oreb', 'o_dreb', 'o_reb', 'o_asts', 'o_pf', 'o_stl', 'o_to', 'o_blk', 'o_pts', 'd_fgm', 'd_fga', 'd_ftm', 'd_fta', 'd_3pm', 'd_3pa', 'd_oreb', 'd_dreb', 'd_reb', 'd_asts', 'd_pf', 'd_stl', 'd_to', 'd_blk', 'd_pts', 'homeW', 'homeL', 'awayW', 'awayL', 'last_year_rank', 'GP', 'GS', 'minutes', 'points', 'oRebounds', 'dRebounds', 'rebounds', 'assists', 'steals', 'blocks', 'turnovers', 'PF', 'fgRatio', 'ftRatio', 'threeRatio', 'dq', 'won', 'lost', 'All_Star_Game_Most_Valuable_Player', 'Defensive_Player_of_the_Year', 'Kim_Perrot_Sportsmanship_Award', 'Most_Improved_Player', 'Most_Valuable_Player', 'Rookie_of_the_Year', 'Sixth_Woman_of_the_Year', 'WNBA_All_Decade_Team_Honorable_Mention', 'WNBA_All_Decade_Team', 'WNBA_Finals_Most_Valuable_Player', 'totalPoints', 'cumulativePoints', 'totalMinutes', 'yearlyWins']\n",
      "69\n"
     ]
    }
   ],
   "source": [
    "to_solve = [x for x in df.columns if x not in df_11.columns]\n",
    "print(list(to_solve))\n",
    "print(len(to_solve))"
   ]
  },
  {
   "cell_type": "code",
   "execution_count": 13,
   "metadata": {},
   "outputs": [
    {
     "data": {
      "text/html": [
       "<div>\n",
       "<style scoped>\n",
       "    .dataframe tbody tr th:only-of-type {\n",
       "        vertical-align: middle;\n",
       "    }\n",
       "\n",
       "    .dataframe tbody tr th {\n",
       "        vertical-align: top;\n",
       "    }\n",
       "\n",
       "    .dataframe thead th {\n",
       "        text-align: right;\n",
       "    }\n",
       "</style>\n",
       "<table border=\"1\" class=\"dataframe\">\n",
       "  <thead>\n",
       "    <tr style=\"text-align: right;\">\n",
       "      <th></th>\n",
       "      <th>year</th>\n",
       "      <th>tmID</th>\n",
       "      <th>rank</th>\n",
       "      <th>playoff</th>\n",
       "      <th>o_fgm</th>\n",
       "      <th>o_fga</th>\n",
       "      <th>o_ftm</th>\n",
       "      <th>o_fta</th>\n",
       "      <th>o_3pm</th>\n",
       "      <th>o_3pa</th>\n",
       "      <th>...</th>\n",
       "      <th>height</th>\n",
       "      <th>weight</th>\n",
       "      <th>birthYear</th>\n",
       "      <th>pos_C</th>\n",
       "      <th>pos_C_F</th>\n",
       "      <th>pos_F</th>\n",
       "      <th>pos_F_C</th>\n",
       "      <th>pos_F_G</th>\n",
       "      <th>pos_G</th>\n",
       "      <th>pos_G_F</th>\n",
       "    </tr>\n",
       "  </thead>\n",
       "  <tbody>\n",
       "    <tr>\n",
       "      <th>0</th>\n",
       "      <td>9</td>\n",
       "      <td>ATL</td>\n",
       "      <td>7</td>\n",
       "      <td>0</td>\n",
       "      <td>895</td>\n",
       "      <td>2258</td>\n",
       "      <td>542</td>\n",
       "      <td>725</td>\n",
       "      <td>202</td>\n",
       "      <td>598</td>\n",
       "      <td>...</td>\n",
       "      <td>79.0</td>\n",
       "      <td>218</td>\n",
       "      <td>1985.0</td>\n",
       "      <td>1</td>\n",
       "      <td>0</td>\n",
       "      <td>0</td>\n",
       "      <td>0</td>\n",
       "      <td>0</td>\n",
       "      <td>0</td>\n",
       "      <td>0</td>\n",
       "    </tr>\n",
       "    <tr>\n",
       "      <th>1</th>\n",
       "      <td>9</td>\n",
       "      <td>ATL</td>\n",
       "      <td>7</td>\n",
       "      <td>0</td>\n",
       "      <td>895</td>\n",
       "      <td>2258</td>\n",
       "      <td>542</td>\n",
       "      <td>725</td>\n",
       "      <td>202</td>\n",
       "      <td>598</td>\n",
       "      <td>...</td>\n",
       "      <td>72.0</td>\n",
       "      <td>140</td>\n",
       "      <td>1982.0</td>\n",
       "      <td>0</td>\n",
       "      <td>0</td>\n",
       "      <td>0</td>\n",
       "      <td>0</td>\n",
       "      <td>1</td>\n",
       "      <td>0</td>\n",
       "      <td>0</td>\n",
       "    </tr>\n",
       "    <tr>\n",
       "      <th>2</th>\n",
       "      <td>9</td>\n",
       "      <td>ATL</td>\n",
       "      <td>7</td>\n",
       "      <td>0</td>\n",
       "      <td>895</td>\n",
       "      <td>2258</td>\n",
       "      <td>542</td>\n",
       "      <td>725</td>\n",
       "      <td>202</td>\n",
       "      <td>598</td>\n",
       "      <td>...</td>\n",
       "      <td>77.0</td>\n",
       "      <td>190</td>\n",
       "      <td>1982.0</td>\n",
       "      <td>0</td>\n",
       "      <td>0</td>\n",
       "      <td>0</td>\n",
       "      <td>1</td>\n",
       "      <td>0</td>\n",
       "      <td>0</td>\n",
       "      <td>0</td>\n",
       "    </tr>\n",
       "    <tr>\n",
       "      <th>3</th>\n",
       "      <td>9</td>\n",
       "      <td>ATL</td>\n",
       "      <td>7</td>\n",
       "      <td>0</td>\n",
       "      <td>895</td>\n",
       "      <td>2258</td>\n",
       "      <td>542</td>\n",
       "      <td>725</td>\n",
       "      <td>202</td>\n",
       "      <td>598</td>\n",
       "      <td>...</td>\n",
       "      <td>69.0</td>\n",
       "      <td>147</td>\n",
       "      <td>1983.0</td>\n",
       "      <td>0</td>\n",
       "      <td>0</td>\n",
       "      <td>0</td>\n",
       "      <td>0</td>\n",
       "      <td>0</td>\n",
       "      <td>1</td>\n",
       "      <td>0</td>\n",
       "    </tr>\n",
       "    <tr>\n",
       "      <th>4</th>\n",
       "      <td>9</td>\n",
       "      <td>ATL</td>\n",
       "      <td>7</td>\n",
       "      <td>0</td>\n",
       "      <td>895</td>\n",
       "      <td>2258</td>\n",
       "      <td>542</td>\n",
       "      <td>725</td>\n",
       "      <td>202</td>\n",
       "      <td>598</td>\n",
       "      <td>...</td>\n",
       "      <td>75.0</td>\n",
       "      <td>175</td>\n",
       "      <td>1983.0</td>\n",
       "      <td>0</td>\n",
       "      <td>0</td>\n",
       "      <td>1</td>\n",
       "      <td>0</td>\n",
       "      <td>0</td>\n",
       "      <td>0</td>\n",
       "      <td>0</td>\n",
       "    </tr>\n",
       "  </tbody>\n",
       "</table>\n",
       "<p>5 rows × 85 columns</p>\n",
       "</div>"
      ],
      "text/plain": [
       "   year tmID  rank  playoff  o_fgm  o_fga  o_ftm  o_fta  o_3pm  o_3pa  ...  \\\n",
       "0     9  ATL     7        0    895   2258    542    725    202    598  ...   \n",
       "1     9  ATL     7        0    895   2258    542    725    202    598  ...   \n",
       "2     9  ATL     7        0    895   2258    542    725    202    598  ...   \n",
       "3     9  ATL     7        0    895   2258    542    725    202    598  ...   \n",
       "4     9  ATL     7        0    895   2258    542    725    202    598  ...   \n",
       "\n",
       "   height  weight  birthYear  pos_C  pos_C_F  pos_F  pos_F_C  pos_F_G  pos_G  \\\n",
       "0    79.0     218     1985.0      1        0      0        0        0      0   \n",
       "1    72.0     140     1982.0      0        0      0        0        1      0   \n",
       "2    77.0     190     1982.0      0        0      0        1        0      0   \n",
       "3    69.0     147     1983.0      0        0      0        0        0      1   \n",
       "4    75.0     175     1983.0      0        0      1        0        0      0   \n",
       "\n",
       "   pos_G_F  \n",
       "0        0  \n",
       "1        0  \n",
       "2        0  \n",
       "3        0  \n",
       "4        0  \n",
       "\n",
       "[5 rows x 85 columns]"
      ]
     },
     "execution_count": 13,
     "metadata": {},
     "output_type": "execute_result"
    }
   ],
   "source": [
    "# Join df_11 to df and assing missing values to NaN\n",
    "df_all =  df.merge(df_11, on=['year', 'tmID', 'playerID', 'p_stint', 'coachID', 'c_stint'], how='left') \\\n",
    "            .merge(players_df, left_on='playerID', right_on='playerID', how='left')\n",
    "df_all.head()"
   ]
  },
  {
   "cell_type": "code",
   "execution_count": 16,
   "metadata": {},
   "outputs": [
    {
     "name": "stdout",
     "output_type": "stream",
     "text": [
      "All_Star_Game_Most_Valuable_Player 2070\n",
      "Defensive_Player_of_the_Year 2070\n",
      "Kim_Perrot_Sportsmanship_Award 2070\n",
      "Most_Improved_Player 2070\n",
      "Most_Valuable_Player 2070\n",
      "Rookie_of_the_Year 2070\n",
      "Sixth_Woman_of_the_Year 2070\n",
      "WNBA_All_Decade_Team_Honorable_Mention 2070\n",
      "WNBA_All_Decade_Team 2070\n",
      "WNBA_Finals_Most_Valuable_Player 2070\n"
     ]
    }
   ],
   "source": [
    "# Checking for missing values after the merge\n",
    "# Check for missing values in each column\n",
    "columns_with_missing_values = df_all.columns[df_all.isna().any()].tolist()\n",
    "for column in columns_with_missing_values:\n",
    "    print(column, df_all[column].isna().sum())"
   ]
  },
  {
   "cell_type": "code",
   "execution_count": 18,
   "metadata": {},
   "outputs": [],
   "source": [
    "# Using loc to modify the DataFrame\n",
    "# Fill the missing values with 0\n",
    "df_all.loc[:, columns_with_missing_values] = df_all[columns_with_missing_values].fillna(0)"
   ]
  },
  {
   "cell_type": "code",
   "execution_count": null,
   "metadata": {},
   "outputs": [
    {
     "name": "stdout",
     "output_type": "stream",
     "text": [
      "All_Star_Game_Most_Valuable_Player 2070\n",
      "Defensive_Player_of_the_Year 2070\n",
      "Kim_Perrot_Sportsmanship_Award 2070\n",
      "Most_Improved_Player 2070\n",
      "Most_Valuable_Player 2070\n",
      "Rookie_of_the_Year 2070\n",
      "Sixth_Woman_of_the_Year 2070\n",
      "WNBA_All_Decade_Team_Honorable_Mention 2070\n",
      "WNBA_All_Decade_Team 2070\n",
      "WNBA_Finals_Most_Valuable_Player 2070\n"
     ]
    }
   ],
   "source": [
    "# Checking for missing values after the merge\n",
    "# Check for missing values in each column\n",
    "columns_with_missing_values = df_all.columns[df_all.isna().any()].tolist()\n",
    "for column in columns_with_missing_values:\n",
    "    print(column, df_all[column].isna().sum())\n",
    "\n",
    "# Expecting to see no missing values"
   ]
  }
 ],
 "metadata": {
  "kernelspec": {
   "display_name": "Python 3",
   "language": "python",
   "name": "python3"
  },
  "language_info": {
   "codemirror_mode": {
    "name": "ipython",
    "version": 3
   },
   "file_extension": ".py",
   "mimetype": "text/x-python",
   "name": "python",
   "nbconvert_exporter": "python",
   "pygments_lexer": "ipython3",
   "version": "3.10.11"
  }
 },
 "nbformat": 4,
 "nbformat_minor": 2
}
