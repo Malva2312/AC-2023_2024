{
 "cells": [
  {
   "cell_type": "code",
   "execution_count": 1,
   "metadata": {},
   "outputs": [],
   "source": [
    "import pandas as pd\n",
    "\n",
    "from py_helpers.db_helper import *"
   ]
  },
  {
   "cell_type": "code",
   "execution_count": 2,
   "metadata": {},
   "outputs": [],
   "source": [
    "target = 'playoff'\n",
    "cleaned_data = './db/WNBA_cleared.db'\n",
    "tables = ['Awards_Players', 'Coaches', 'Players', 'Players_Teams', 'Teams', 'Teams_Year']"
   ]
  },
  {
   "cell_type": "code",
   "execution_count": 3,
   "metadata": {},
   "outputs": [],
   "source": [
    "awards_players_df = retrieve_data(cleaned_data, tables[0])  \n",
    "coaches_df = retrieve_data(cleaned_data, tables[1])  \n",
    "players_df = retrieve_data(cleaned_data, tables[2])  \n",
    "players_teams_df = retrieve_data(cleaned_data, tables[3])  \n",
    "teams_df = retrieve_data(cleaned_data, tables[4])  \n",
    "teams_year_df = retrieve_data(cleaned_data, tables[5])  \n"
   ]
  },
  {
   "cell_type": "code",
   "execution_count": 4,
   "metadata": {},
   "outputs": [],
   "source": [
    "features_teams = ['year','tmID','rank','playoff','o_fgm','o_fga','o_ftm','o_fta','o_3pm','o_3pa','o_oreb','o_dreb','o_reb','o_asts','o_pf','o_stl','o_to','o_blk','o_pts','d_fgm','d_fga','d_ftm','d_fta','d_3pm','d_3pa','d_oreb','d_dreb','d_reb','d_asts','d_pf','d_stl','d_to','d_blk','d_pts','homeW','homeL','awayW','awayL']\n",
    "\n",
    "# TODO: Birthdate -> BirthYear\n",
    "features_player = ['bioID','pos','height','weight','birthDate'] \n",
    "\n",
    "features_player_teams = ['playerID','year','stint','tmID','GP','GS','minutes','points','oRebounds','dRebounds','rebounds','assists','steals','blocks','turnovers','PF','fgRatio','ftRatio','threeRatio','dq']\n",
    "\n",
    "features_coaches = [\"coachID\",\"year\",\"tmID\",\"stint\",\"won\",\"lost\"]\n",
    "\n",
    "# TODO: add have awards to the table\n",
    "features_awards_players = ['playerID','year','All-Star Game Most Valuable Player','Coach of the Year','Defensive Player of the Year', 'Kim Perrot Sportsmanship Award','Most Improved Player','Most Valuable Player','Rookie of the Year','Sixth Woman of the Year','WNBA All Decade Team Honorable Mention','WNBA All-Decade Team','WNBA Finals Most Valuable Player']\n",
    "# Replace spaces with underscores in the column names\n",
    "for i in range(len(features_awards_players)):\n",
    "    features_awards_players[i] = features_awards_players[i].replace(' ', '_')\n",
    "    features_awards_players[i] = features_awards_players[i].replace('-', '_')\n",
    "\n",
    "# TODO: test with and without coaches dummies\n",
    "features_teams_year = ['all']\n"
   ]
  },
  {
   "cell_type": "code",
   "execution_count": 5,
   "metadata": {},
   "outputs": [],
   "source": [
    "awards_players_df = awards_players_df[features_awards_players]\n",
    "coaches_df = coaches_df[features_coaches]\n",
    "players_df = players_df[features_player]\n",
    "players_teams_df = players_teams_df[features_player_teams]\n",
    "teams_df = teams_df[features_teams]\n",
    "# teams_year_df = teams_year_df[features_teams_year]"
   ]
  },
  {
   "cell_type": "code",
   "execution_count": 6,
   "metadata": {},
   "outputs": [],
   "source": [
    "# Join the DataFrames\n",
    "merged_df = teams_df.merge(teams_year_df, on=['year', 'tmID'])\\\n",
    "    .merge(players_teams_df, on=['year', 'tmID'])\\\n",
    "    .merge(players_df, left_on='playerID', right_on='bioID')\\\n",
    "    .merge(coaches_df, on=['year', 'tmID'])\n",
    "\n",
    "# This will merge all the DataFrames based on their respective common columns."
   ]
  },
  {
   "cell_type": "code",
   "execution_count": 7,
   "metadata": {},
   "outputs": [],
   "source": [
    "merged_df = merged_df.drop(['bioID'], axis=1)\n",
    "merged_df = merged_df.drop(['playerID'], axis=1)\n",
    "merged_df = merged_df.drop(['coachID'], axis=1)\n",
    "merged_df = merged_df.drop(['coach_none'], axis=1)"
   ]
  },
  {
   "cell_type": "code",
   "execution_count": 8,
   "metadata": {},
   "outputs": [],
   "source": [
    "# Check the types of all the data\n",
    "binary_check = merged_df.apply(lambda x: all(val in [0, 1] for val in x) and (x.dtype == 'int64'))\n",
    "binary_columns = merged_df.columns[binary_check].tolist()\n",
    "merged_df[binary_columns] = merged_df[binary_columns].astype(bool)"
   ]
  },
  {
   "cell_type": "code",
   "execution_count": 9,
   "metadata": {},
   "outputs": [],
   "source": [
    "# Add the merged table to the database\n",
    "table_name = 'merged'\n",
    "schema = schema_builder(merged_df)\n",
    "schema = f\"Create Table {table_name} ({schema})\"\n",
    "insert_dataframe(merged_df, table_name, cleaned_data, schema)"
   ]
  }
 ],
 "metadata": {
  "kernelspec": {
   "display_name": "base",
   "language": "python",
   "name": "python3"
  },
  "language_info": {
   "codemirror_mode": {
    "name": "ipython",
    "version": 3
   },
   "file_extension": ".py",
   "mimetype": "text/x-python",
   "name": "python",
   "nbconvert_exporter": "python",
   "pygments_lexer": "ipython3",
   "version": "3.10.9"
  }
 },
 "nbformat": 4,
 "nbformat_minor": 2
}
